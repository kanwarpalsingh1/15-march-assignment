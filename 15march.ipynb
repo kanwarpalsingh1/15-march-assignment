{
 "cells": [
  {
   "cell_type": "markdown",
   "id": "25cd8830-0fca-4536-b5d8-dbf5cf2fd9f7",
   "metadata": {},
   "source": [
    "Q1: Explain the following with examples:\n",
    "\n",
    "C) Artificial Intelligence (AI) - Artificial Intelligence refers to the simulation of human intelligence processes by machines, especially computer systems. These processes include learning (the acquisition of information and rules for using the information), reasoning (using rules to reach approximate or definite conclusions), and self-correction. Example: Natural Language Processing (NLP) applications like chatbots.\n",
    "\n",
    "B) Machine Learning (ML) - Machine Learning is a subset of AI that provides systems the ability to automatically learn and improve from experience without being explicitly programmed. Example: Email spam filters that learn to classify emails based on user actions.\n",
    "\n",
    "I) Deep Learning (DL) - Deep Learning is a subset of machine learning where artificial neural networks, algorithms inspired by the structure and function of the brain, learn from large amounts of data. Example: Image recognition systems like those used in facial recognition technology.\n",
    "\n"
   ]
  },
  {
   "cell_type": "markdown",
   "id": "a6b5569f-9976-4827-b3f5-86c7ba2be028",
   "metadata": {},
   "source": [
    "Q2: What is supervised learning? List some examples of supervised learning.\n",
    "\n",
    "Supervised Learning is a type of machine learning where the model is trained on a labeled dataset, which means the input data is paired with the correct output. The model learns from these labeled examples to make predictions or decisions.\n",
    "\n",
    "Examples of supervised learning include:\n",
    "\n",
    "Classification - Predicting whether an email is spam or not.\n",
    "Regression - Predicting house prices based on features like location, size, etc.\n",
    "Object detection - Identifying objects in images and labeling them accordingly.\n"
   ]
  },
  {
   "cell_type": "markdown",
   "id": "7579a419-60de-4b52-8f3e-1d9f672973f0",
   "metadata": {},
   "source": [
    "Q3: What is unsupervised learning? List some examples of unsupervised learning.\n",
    "\n",
    "Unsupervised Learning is a type of machine learning where the model is trained on unlabeled data. The algorithm tries to learn the patterns and structure from the input data without any explicit feedback.\n",
    "\n",
    "Examples of unsupervised learning include:\n",
    "\n",
    "Clustering - Grouping similar customers based on their purchasing behavior.\n",
    "Anomaly detection - Identifying unusual patterns that do not conform to expected behavior.\n",
    "Dimensionality reduction - Reducing the number of features in the data while preserving its essential structure.\n"
   ]
  },
  {
   "cell_type": "markdown",
   "id": "cfcd7bf8-59d5-472a-8f86-6ae5f2b2334c",
   "metadata": {},
   "source": [
    "Q4: What is the difference between AI, ML, DL, and DS?\n",
    "\n",
    "AI (Artificial Intelligence) is the broader concept of machines being able to carry out tasks in a way that we would consider \"smart.\"\n",
    "ML (Machine Learning) is a subset of AI that focuses on the development of algorithms that allow computers to learn from and make predictions or decisions based on data.\n",
    "DL (Deep Learning) is a subset of ML that uses neural networks with many layers to learn representations of data.\n",
    "DS (Data Science) is a field that uses scientific methods, algorithms, processes, and systems to extract knowledge and insights from structured and unstructured data.\n"
   ]
  },
  {
   "cell_type": "markdown",
   "id": "3d87152c-9ccf-4def-8ca3-75795d77c060",
   "metadata": {},
   "source": [
    "Q5: What are the main differences between supervised, unsupervised, and semi-supervised learning?\n",
    "\n",
    "Supervised Learning requires labeled data, where each input is paired with the correct output. It is used for classification and regression tasks.\n",
    "Unsupervised Learning works with unlabeled data, seeking to find hidden patterns or intrinsic structures within the input data.\n",
    "Semi-supervised Learning is a combination of both supervised and unsupervised learning, where the model is trained on a small amount of labeled data and a large amount of unlabeled data.\n"
   ]
  },
  {
   "cell_type": "markdown",
   "id": "8cd8850d-d5cf-4bf7-b2cf-b2dad3d2f63a",
   "metadata": {},
   "source": [
    "Q6: What is train, test, and validation split? Explain the importance of each term.\n",
    "\n",
    "Train Set: The dataset used to train the model.\n",
    "Test Set: The dataset used to evaluate the performance of the model after it has been trained.\n",
    "Validation Set: An optional dataset used to tune hyperparameters and fine-tune the model during training.\n",
    "The train-test split helps in evaluating the performance of the model on unseen data (test set), while the validation set helps prevent overfitting by tuning model parameters based on a separate dataset. This split ensures that the model generalizes well to new, unseen data.\n",
    "\n"
   ]
  },
  {
   "cell_type": "markdown",
   "id": "870c9d52-ff47-41e7-a04a-68f8773421b0",
   "metadata": {},
   "source": [
    "Q7: How can unsupervised learning be used in anomaly detection?\n",
    "\n",
    "Unsupervised learning algorithms can detect anomalies by learning the normal patterns in the data and identifying instances that deviate significantly from these patterns. Anomalies are data points that are rare or significantly different from the majority of the data. Techniques like clustering or density estimation can be used to identify such anomalies.\n",
    "\n"
   ]
  },
  {
   "cell_type": "markdown",
   "id": "be6037a5-1469-4b1a-813f-4438e0267617",
   "metadata": {},
   "source": [
    "Q8: List down some commonly used supervised learning algorithms and unsupervised learning algorithms.\n",
    "\n",
    "Supervised Learning Algorithms:\n",
    "\n",
    "Support Vector Machines (SVM)\n",
    "Decision Trees\n",
    "Random Forest\n",
    "Naive Bayes\n",
    "K-Nearest Neighbors (KNN)\n",
    "Linear Regression\n",
    "Logistic Regression\n",
    "Unsupervised Learning Algorithms:\n",
    "\n",
    "K-Means Clustering\n",
    "Hierarchical Clustering\n",
    "DBSCAN (Density-Based Spatial Clustering of Applications with Noise)\n",
    "Gaussian Mixture Models (GMM)\n",
    "Principal Component Analysis (PCA)\n",
    "t-Distributed Stochastic Neighbor Embedding (t-SNE)\n",
    "Autoencoders"
   ]
  }
 ],
 "metadata": {
  "kernelspec": {
   "display_name": "Python 3 (ipykernel)",
   "language": "python",
   "name": "python3"
  },
  "language_info": {
   "codemirror_mode": {
    "name": "ipython",
    "version": 3
   },
   "file_extension": ".py",
   "mimetype": "text/x-python",
   "name": "python",
   "nbconvert_exporter": "python",
   "pygments_lexer": "ipython3",
   "version": "3.10.8"
  }
 },
 "nbformat": 4,
 "nbformat_minor": 5
}
